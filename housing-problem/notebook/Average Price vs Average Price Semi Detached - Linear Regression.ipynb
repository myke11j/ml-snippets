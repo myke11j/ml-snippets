{
 "cells": [
  {
   "cell_type": "code",
   "execution_count": 3,
   "metadata": {},
   "outputs": [],
   "source": [
    "import pandas as pd\n",
    "import numpy as np\n",
    "import matplotlib.pyplot as plt\n",
    "from mpl_toolkits import mplot3d"
   ]
  },
  {
   "cell_type": "code",
   "execution_count": 7,
   "metadata": {},
   "outputs": [
    {
     "data": {
      "text/plain": [
       "(96, 17)"
      ]
     },
     "execution_count": 7,
     "metadata": {},
     "output_type": "execute_result"
    }
   ],
   "source": [
    "df = pd.read_csv('../houseprices.csv')\n",
    "df.shape"
   ]
  },
  {
   "cell_type": "code",
   "execution_count": 8,
   "metadata": {},
   "outputs": [
    {
     "data": {
      "text/html": [
       "<div>\n",
       "<style scoped>\n",
       "    .dataframe tbody tr th:only-of-type {\n",
       "        vertical-align: middle;\n",
       "    }\n",
       "\n",
       "    .dataframe tbody tr th {\n",
       "        vertical-align: top;\n",
       "    }\n",
       "\n",
       "    .dataframe thead th {\n",
       "        text-align: right;\n",
       "    }\n",
       "</style>\n",
       "<table border=\"1\" class=\"dataframe\">\n",
       "  <thead>\n",
       "    <tr style=\"text-align: right;\">\n",
       "      <th></th>\n",
       "      <th>OrganisationLabel</th>\n",
       "      <th>OrganisationURI</th>\n",
       "      <th>PublishedDate</th>\n",
       "      <th>LatestData</th>\n",
       "      <th>DurationFrom</th>\n",
       "      <th>DurationTo</th>\n",
       "      <th>ReportingPeriodType</th>\n",
       "      <th>Month</th>\n",
       "      <th>GeoEntityName</th>\n",
       "      <th>GeoCode</th>\n",
       "      <th>GeoName</th>\n",
       "      <th>GeoURI</th>\n",
       "      <th>AveragePrice</th>\n",
       "      <th>AveragePriceDetached</th>\n",
       "      <th>AveragePriceSemiDetached</th>\n",
       "      <th>AveragePriceTerraced</th>\n",
       "      <th>AveragePriceFlatOrMaisonette</th>\n",
       "    </tr>\n",
       "  </thead>\n",
       "  <tbody>\n",
       "    <tr>\n",
       "      <th>0</th>\n",
       "      <td>Lincolnshire</td>\n",
       "      <td>http://opendatacommunities.org/id/county-counc...</td>\n",
       "      <td>2018-08-22T00:00:00</td>\n",
       "      <td>True</td>\n",
       "      <td>2018-06-01T00:00:00</td>\n",
       "      <td>2018-06-30T23:59:59</td>\n",
       "      <td>Month</td>\n",
       "      <td>2018-06</td>\n",
       "      <td>District Council</td>\n",
       "      <td>E07000136</td>\n",
       "      <td>Boston</td>\n",
       "      <td>http://statistics.data.gov.uk/doc/statistical-...</td>\n",
       "      <td>153458</td>\n",
       "      <td>210267</td>\n",
       "      <td>131631</td>\n",
       "      <td>105835</td>\n",
       "      <td>82069</td>\n",
       "    </tr>\n",
       "    <tr>\n",
       "      <th>1</th>\n",
       "      <td>Lincolnshire</td>\n",
       "      <td>http://opendatacommunities.org/id/county-counc...</td>\n",
       "      <td>2018-08-22T00:00:00</td>\n",
       "      <td>True</td>\n",
       "      <td>2018-06-01T00:00:00</td>\n",
       "      <td>2018-06-30T23:59:59</td>\n",
       "      <td>Month</td>\n",
       "      <td>2018-06</td>\n",
       "      <td>District Council</td>\n",
       "      <td>E07000137</td>\n",
       "      <td>East Lindsey</td>\n",
       "      <td>http://statistics.data.gov.uk/doc/statistical-...</td>\n",
       "      <td>169255</td>\n",
       "      <td>208535</td>\n",
       "      <td>144062</td>\n",
       "      <td>114716</td>\n",
       "      <td>86208</td>\n",
       "    </tr>\n",
       "    <tr>\n",
       "      <th>2</th>\n",
       "      <td>Lincolnshire</td>\n",
       "      <td>http://opendatacommunities.org/id/county-counc...</td>\n",
       "      <td>2018-08-22T00:00:00</td>\n",
       "      <td>True</td>\n",
       "      <td>2018-06-01T00:00:00</td>\n",
       "      <td>2018-06-30T23:59:59</td>\n",
       "      <td>Month</td>\n",
       "      <td>2018-06</td>\n",
       "      <td>District Council</td>\n",
       "      <td>E07000138</td>\n",
       "      <td>Lincoln</td>\n",
       "      <td>http://statistics.data.gov.uk/doc/statistical-...</td>\n",
       "      <td>147578</td>\n",
       "      <td>235597</td>\n",
       "      <td>159052</td>\n",
       "      <td>122782</td>\n",
       "      <td>100896</td>\n",
       "    </tr>\n",
       "    <tr>\n",
       "      <th>3</th>\n",
       "      <td>Lincolnshire</td>\n",
       "      <td>http://opendatacommunities.org/id/county-counc...</td>\n",
       "      <td>2018-08-22T00:00:00</td>\n",
       "      <td>True</td>\n",
       "      <td>2018-06-01T00:00:00</td>\n",
       "      <td>2018-06-30T23:59:59</td>\n",
       "      <td>Month</td>\n",
       "      <td>2018-06</td>\n",
       "      <td>District Council</td>\n",
       "      <td>E07000139</td>\n",
       "      <td>North Kesteven</td>\n",
       "      <td>http://statistics.data.gov.uk/doc/statistical-...</td>\n",
       "      <td>205763</td>\n",
       "      <td>249046</td>\n",
       "      <td>169806</td>\n",
       "      <td>141247</td>\n",
       "      <td>101705</td>\n",
       "    </tr>\n",
       "    <tr>\n",
       "      <th>4</th>\n",
       "      <td>Lincolnshire</td>\n",
       "      <td>http://opendatacommunities.org/id/county-counc...</td>\n",
       "      <td>2018-08-22T00:00:00</td>\n",
       "      <td>True</td>\n",
       "      <td>2018-06-01T00:00:00</td>\n",
       "      <td>2018-06-30T23:59:59</td>\n",
       "      <td>Month</td>\n",
       "      <td>2018-06</td>\n",
       "      <td>District Council</td>\n",
       "      <td>E07000140</td>\n",
       "      <td>South Holland</td>\n",
       "      <td>http://statistics.data.gov.uk/doc/statistical-...</td>\n",
       "      <td>185205</td>\n",
       "      <td>228877</td>\n",
       "      <td>157058</td>\n",
       "      <td>128691</td>\n",
       "      <td>86009</td>\n",
       "    </tr>\n",
       "  </tbody>\n",
       "</table>\n",
       "</div>"
      ],
      "text/plain": [
       "  OrganisationLabel                                    OrganisationURI  \\\n",
       "0      Lincolnshire  http://opendatacommunities.org/id/county-counc...   \n",
       "1      Lincolnshire  http://opendatacommunities.org/id/county-counc...   \n",
       "2      Lincolnshire  http://opendatacommunities.org/id/county-counc...   \n",
       "3      Lincolnshire  http://opendatacommunities.org/id/county-counc...   \n",
       "4      Lincolnshire  http://opendatacommunities.org/id/county-counc...   \n",
       "\n",
       "         PublishedDate LatestData         DurationFrom           DurationTo  \\\n",
       "0  2018-08-22T00:00:00       True  2018-06-01T00:00:00  2018-06-30T23:59:59   \n",
       "1  2018-08-22T00:00:00       True  2018-06-01T00:00:00  2018-06-30T23:59:59   \n",
       "2  2018-08-22T00:00:00       True  2018-06-01T00:00:00  2018-06-30T23:59:59   \n",
       "3  2018-08-22T00:00:00       True  2018-06-01T00:00:00  2018-06-30T23:59:59   \n",
       "4  2018-08-22T00:00:00       True  2018-06-01T00:00:00  2018-06-30T23:59:59   \n",
       "\n",
       "  ReportingPeriodType    Month     GeoEntityName    GeoCode         GeoName  \\\n",
       "0               Month  2018-06  District Council  E07000136          Boston   \n",
       "1               Month  2018-06  District Council  E07000137    East Lindsey   \n",
       "2               Month  2018-06  District Council  E07000138         Lincoln   \n",
       "3               Month  2018-06  District Council  E07000139  North Kesteven   \n",
       "4               Month  2018-06  District Council  E07000140   South Holland   \n",
       "\n",
       "                                              GeoURI  AveragePrice  \\\n",
       "0  http://statistics.data.gov.uk/doc/statistical-...        153458   \n",
       "1  http://statistics.data.gov.uk/doc/statistical-...        169255   \n",
       "2  http://statistics.data.gov.uk/doc/statistical-...        147578   \n",
       "3  http://statistics.data.gov.uk/doc/statistical-...        205763   \n",
       "4  http://statistics.data.gov.uk/doc/statistical-...        185205   \n",
       "\n",
       "   AveragePriceDetached  AveragePriceSemiDetached  AveragePriceTerraced  \\\n",
       "0                210267                    131631                105835   \n",
       "1                208535                    144062                114716   \n",
       "2                235597                    159052                122782   \n",
       "3                249046                    169806                141247   \n",
       "4                228877                    157058                128691   \n",
       "\n",
       "   AveragePriceFlatOrMaisonette  \n",
       "0                         82069  \n",
       "1                         86208  \n",
       "2                        100896  \n",
       "3                        101705  \n",
       "4                         86009  "
      ]
     },
     "execution_count": 8,
     "metadata": {},
     "output_type": "execute_result"
    }
   ],
   "source": [
    "df.head()"
   ]
  },
  {
   "cell_type": "code",
   "execution_count": 10,
   "metadata": {},
   "outputs": [
    {
     "data": {
      "text/html": [
       "<div>\n",
       "<style scoped>\n",
       "    .dataframe tbody tr th:only-of-type {\n",
       "        vertical-align: middle;\n",
       "    }\n",
       "\n",
       "    .dataframe tbody tr th {\n",
       "        vertical-align: top;\n",
       "    }\n",
       "\n",
       "    .dataframe thead th {\n",
       "        text-align: right;\n",
       "    }\n",
       "</style>\n",
       "<table border=\"1\" class=\"dataframe\">\n",
       "  <thead>\n",
       "    <tr style=\"text-align: right;\">\n",
       "      <th></th>\n",
       "      <th>AveragePrice</th>\n",
       "      <th>AveragePriceDetached</th>\n",
       "      <th>AveragePriceSemiDetached</th>\n",
       "      <th>AveragePriceTerraced</th>\n",
       "      <th>AveragePriceFlatOrMaisonette</th>\n",
       "    </tr>\n",
       "  </thead>\n",
       "  <tbody>\n",
       "    <tr>\n",
       "      <th>count</th>\n",
       "      <td>96.000000</td>\n",
       "      <td>96.000000</td>\n",
       "      <td>96.000000</td>\n",
       "      <td>96.000000</td>\n",
       "      <td>96.000000</td>\n",
       "    </tr>\n",
       "    <tr>\n",
       "      <th>mean</th>\n",
       "      <td>174695.531250</td>\n",
       "      <td>232415.989583</td>\n",
       "      <td>153918.614583</td>\n",
       "      <td>124320.781250</td>\n",
       "      <td>94400.239583</td>\n",
       "    </tr>\n",
       "    <tr>\n",
       "      <th>std</th>\n",
       "      <td>20657.431458</td>\n",
       "      <td>26043.738795</td>\n",
       "      <td>17109.067049</td>\n",
       "      <td>14282.285741</td>\n",
       "      <td>9058.920326</td>\n",
       "    </tr>\n",
       "    <tr>\n",
       "      <th>min</th>\n",
       "      <td>142606.000000</td>\n",
       "      <td>197723.000000</td>\n",
       "      <td>122934.000000</td>\n",
       "      <td>98900.000000</td>\n",
       "      <td>77133.000000</td>\n",
       "    </tr>\n",
       "    <tr>\n",
       "      <th>25%</th>\n",
       "      <td>160337.750000</td>\n",
       "      <td>213405.500000</td>\n",
       "      <td>142469.750000</td>\n",
       "      <td>114507.750000</td>\n",
       "      <td>86614.750000</td>\n",
       "    </tr>\n",
       "    <tr>\n",
       "      <th>50%</th>\n",
       "      <td>173248.000000</td>\n",
       "      <td>229160.000000</td>\n",
       "      <td>154733.000000</td>\n",
       "      <td>124887.500000</td>\n",
       "      <td>96237.000000</td>\n",
       "    </tr>\n",
       "    <tr>\n",
       "      <th>75%</th>\n",
       "      <td>189221.500000</td>\n",
       "      <td>237361.750000</td>\n",
       "      <td>160223.500000</td>\n",
       "      <td>130628.750000</td>\n",
       "      <td>100383.000000</td>\n",
       "    </tr>\n",
       "    <tr>\n",
       "      <th>max</th>\n",
       "      <td>213382.000000</td>\n",
       "      <td>300043.000000</td>\n",
       "      <td>192724.000000</td>\n",
       "      <td>155729.000000</td>\n",
       "      <td>110953.000000</td>\n",
       "    </tr>\n",
       "  </tbody>\n",
       "</table>\n",
       "</div>"
      ],
      "text/plain": [
       "        AveragePrice  AveragePriceDetached  AveragePriceSemiDetached  \\\n",
       "count      96.000000             96.000000                 96.000000   \n",
       "mean   174695.531250         232415.989583             153918.614583   \n",
       "std     20657.431458          26043.738795              17109.067049   \n",
       "min    142606.000000         197723.000000             122934.000000   \n",
       "25%    160337.750000         213405.500000             142469.750000   \n",
       "50%    173248.000000         229160.000000             154733.000000   \n",
       "75%    189221.500000         237361.750000             160223.500000   \n",
       "max    213382.000000         300043.000000             192724.000000   \n",
       "\n",
       "       AveragePriceTerraced  AveragePriceFlatOrMaisonette  \n",
       "count             96.000000                     96.000000  \n",
       "mean          124320.781250                  94400.239583  \n",
       "std            14282.285741                   9058.920326  \n",
       "min            98900.000000                  77133.000000  \n",
       "25%           114507.750000                  86614.750000  \n",
       "50%           124887.500000                  96237.000000  \n",
       "75%           130628.750000                 100383.000000  \n",
       "max           155729.000000                 110953.000000  "
      ]
     },
     "execution_count": 10,
     "metadata": {},
     "output_type": "execute_result"
    }
   ],
   "source": [
    "df.describe()"
   ]
  },
  {
   "cell_type": "code",
   "execution_count": 16,
   "metadata": {},
   "outputs": [
    {
     "data": {
      "text/plain": [
       "(96, 4)"
      ]
     },
     "execution_count": 16,
     "metadata": {},
     "output_type": "execute_result"
    }
   ],
   "source": [
    "dfToConsider = df.iloc[:,13:17]\n",
    "dfToConsider.shape"
   ]
  },
  {
   "cell_type": "code",
   "execution_count": 19,
   "metadata": {},
   "outputs": [
    {
     "data": {
      "text/html": [
       "<div>\n",
       "<style scoped>\n",
       "    .dataframe tbody tr th:only-of-type {\n",
       "        vertical-align: middle;\n",
       "    }\n",
       "\n",
       "    .dataframe tbody tr th {\n",
       "        vertical-align: top;\n",
       "    }\n",
       "\n",
       "    .dataframe thead th {\n",
       "        text-align: right;\n",
       "    }\n",
       "</style>\n",
       "<table border=\"1\" class=\"dataframe\">\n",
       "  <thead>\n",
       "    <tr style=\"text-align: right;\">\n",
       "      <th></th>\n",
       "      <th>AveragePriceDetached</th>\n",
       "      <th>AveragePriceSemiDetached</th>\n",
       "      <th>AveragePriceTerraced</th>\n",
       "      <th>AveragePriceFlatOrMaisonette</th>\n",
       "    </tr>\n",
       "  </thead>\n",
       "  <tbody>\n",
       "    <tr>\n",
       "      <th>0</th>\n",
       "      <td>210267</td>\n",
       "      <td>131631</td>\n",
       "      <td>105835</td>\n",
       "      <td>82069</td>\n",
       "    </tr>\n",
       "    <tr>\n",
       "      <th>1</th>\n",
       "      <td>208535</td>\n",
       "      <td>144062</td>\n",
       "      <td>114716</td>\n",
       "      <td>86208</td>\n",
       "    </tr>\n",
       "    <tr>\n",
       "      <th>2</th>\n",
       "      <td>235597</td>\n",
       "      <td>159052</td>\n",
       "      <td>122782</td>\n",
       "      <td>100896</td>\n",
       "    </tr>\n",
       "    <tr>\n",
       "      <th>3</th>\n",
       "      <td>249046</td>\n",
       "      <td>169806</td>\n",
       "      <td>141247</td>\n",
       "      <td>101705</td>\n",
       "    </tr>\n",
       "    <tr>\n",
       "      <th>4</th>\n",
       "      <td>228877</td>\n",
       "      <td>157058</td>\n",
       "      <td>128691</td>\n",
       "      <td>86009</td>\n",
       "    </tr>\n",
       "  </tbody>\n",
       "</table>\n",
       "</div>"
      ],
      "text/plain": [
       "   AveragePriceDetached  AveragePriceSemiDetached  AveragePriceTerraced  \\\n",
       "0                210267                    131631                105835   \n",
       "1                208535                    144062                114716   \n",
       "2                235597                    159052                122782   \n",
       "3                249046                    169806                141247   \n",
       "4                228877                    157058                128691   \n",
       "\n",
       "   AveragePriceFlatOrMaisonette  \n",
       "0                         82069  \n",
       "1                         86208  \n",
       "2                        100896  \n",
       "3                        101705  \n",
       "4                         86009  "
      ]
     },
     "execution_count": 19,
     "metadata": {},
     "output_type": "execute_result"
    }
   ],
   "source": [
    "[m, n] = dfToConsider.shape\n",
    "dfToConsider.head()"
   ]
  },
  {
   "cell_type": "code",
   "execution_count": 26,
   "metadata": {},
   "outputs": [],
   "source": [
    "train = dfToConsider.iloc[:(m-16), :]\n",
    "test = dfToConsider.iloc[(m-15):, :]"
   ]
  },
  {
   "cell_type": "code",
   "execution_count": 29,
   "metadata": {},
   "outputs": [
    {
     "data": {
      "text/plain": [
       "(80, 4)"
      ]
     },
     "execution_count": 29,
     "metadata": {},
     "output_type": "execute_result"
    }
   ],
   "source": [
    "train.shape"
   ]
  },
  {
   "cell_type": "code",
   "execution_count": 37,
   "metadata": {},
   "outputs": [
    {
     "data": {
      "text/plain": [
       "<matplotlib.collections.PathCollection at 0x7f45f03f4d30>"
      ]
     },
     "execution_count": 37,
     "metadata": {},
     "output_type": "execute_result"
    },
    {
     "data": {
      "image/png": "[encoded data removed]",
      "text/plain": [
       "<Figure size 432x288 with 1 Axes>"
      ]
     },
     "metadata": {},
     "output_type": "display_data"
    }
   ],
   "source": [
    "X = train['AveragePriceDetached']\n",
    "y = train['AveragePriceTerraced']\n",
    "# y = mx + b (slope formula) ~ theta1.x + theta0\n",
    "theta = [0, 0] # inital slope and y-itercept for hypothesis\n",
    "plt.scatter(X, y)"
   ]
  },
  {
   "cell_type": "code",
   "execution_count": 33,
   "metadata": {},
   "outputs": [],
   "source": [
    "class CostClass(object):\n",
    "    def __init__(self, cost, theta0, theta1):\n",
    "        self.cost = cost\n",
    "        self.theta0 = theta0\n",
    "        self.theta1 = theta1"
   ]
  },
  {
   "cell_type": "code",
   "execution_count": 34,
   "metadata": {},
   "outputs": [],
   "source": [
    "def computeCost(m, theta, x, y):\n",
    "    hypothesis = theta[0] - np.dot(x, theta[1])\n",
    "    loss = hypothesis - y\n",
    "    cost = np.sum(loss ** 2) / (2 * m)\n",
    "    return cost"
   ]
  },
  {
   "cell_type": "code",
   "execution_count": 46,
   "metadata": {},
   "outputs": [],
   "source": [
    "costThetaList = []\n",
    "\n",
    "# m denotes the number of examples here, not the number of features\n",
    "def gradientDescent(x, y, theta, learning_rate, num_iterations):\n",
    "    m = len(x)\n",
    "    theta0Gradient = 0; # initial value\n",
    "    theta1Gradient = 0; # initial value\n",
    "    [theta0, theta1] = theta\n",
    "    for i in range(0, num_iterations):\n",
    "        cost = computeCost(m, theta, x, y)\n",
    "        costThetaList.append(CostClass(cost, theta0, theta1)) # adding history data in set for fetching the minimum later\n",
    "        \n",
    "        # Appending value in lists for plotting the graph later-on\n",
    "#         gradientList.append(cost)\n",
    "#         theta0List.append(theta0)\n",
    "#         theta1List.append(theta1)\n",
    "        \n",
    "        print(\"Iteration %d | Cost: %f | theta %f %f\" % (i, cost,theta0, theta1))\n",
    "        theta0Gradient += -(2/m) * (y[i] - ((theta1 * x[i]) + theta0))\n",
    "        theta1Gradient += -(2/m) * x[i] * (y[i] - ((theta1 * x[i]) + theta1))\n",
    "        theta0 = theta0 - (learning_rate * theta0Gradient)\n",
    "        theta1 = theta1 - (learning_rate * theta1Gradient)\n",
    "        theta = [theta0, theta1]\n",
    "    return [theta0, theta1]"
   ]
  },
  {
   "cell_type": "code",
   "execution_count": 43,
   "metadata": {},
   "outputs": [
    {
     "name": "stdout",
     "output_type": "stream",
     "text": [
      "Starting gradient descent at b = 0, m = 0, error = 6545065293.286458\n"
     ]
    }
   ],
   "source": [
    "print(\"Starting gradient descent at b = %d, m = %d, error = %f\" % (theta[0], theta[1], computeCost(m, theta, X, y)))"
   ]
  },
  {
   "cell_type": "code",
   "execution_count": 48,
   "metadata": {},
   "outputs": [],
   "source": [
    "# Set hyper paramters\n",
    "learning_rate = 0.1\n",
    "num_iterations = 10000"
   ]
  },
  {
   "cell_type": "code",
   "execution_count": 49,
   "metadata": {},
   "outputs": [
    {
     "name": "stdout",
     "output_type": "stream",
     "text": [
      "Running...\n",
      "Iteration 0 | Cost: 7854078351.943750 | theta 0.000000 0.000000\n",
      "Iteration 1 | Cost: 85041617386440191199150080.000000 | theta 264.587500 55634019.862500\n",
      "Iteration 2 | Cost: 1005151410270558436014643536753491873628160.000000 | theta -29004100014.762566 -6048398999624871.000000\n",
      "Iteration 3 | Cost: 19355045738903094048845459693706878262132978642351489548288.000000 | theta 3562461589850861568.000000 839308827198417960697856.000000\n",
      "Iteration 4 | Cost: 465367423784933137523552243644031149307330678122179846678189374545556668416.000000 | theta -522566258330125947325382656.000000 -130143559031947947493807999680512.000000\n",
      "Iteration 5 | Cost: 7981571111546616295619006915841915587627757685802818967037854400000368400092575977502146560.000000 | theta 74467167357561786972631798072213504.000000 17043896309085737678577178782529096777728.000000\n",
      "Iteration 6 | Cost: 370096513402486941802790547310832882048885883085261674871201976315167347189293389394106340631079559062618112.000000 | theta -12505319621931904378289750485132840659845120.000000 -3670136244130018397321647026146807828131702898688.000000\n",
      "Iteration 7 | Cost: 5230207794746620964183081768090755473928282323526071788650344484984559392190901650839252955729378577984587603671855931588608.000000 | theta 2000793099189324394993106809590368238756511277383680.000000 436298943695326796984926071867411021513824144813337870336.000000\n",
      "Iteration 8 | Cost: 102195874149560283164441538699429487065063338237400125309072912165105792046072279274554232058297438238298601643700397722175249095033152864256.000000 | theta -257918116568908267452380629403318686739578580421932094586880.000000 -60987575834439025420011223717439195674984604692311686136847138816.000000\n",
      "Iteration 9 | Cost: 1109577652329991246461823932374856048101586322709365100351054170454165605515847173784629427659332379247194886172674455003674798752782347114098715012475387904.000000 | theta 31127295846008307572599470370813334733760652576241778067266496102400.000000 6354824193941943450991617101774362426598531646393186677112522672361701376.000000\n",
      "Iteration 10 | Cost: 13419932565668223532632166686067001296555329396834135295250898129206952997130715650251927360656553263466201560138155189806950468100717854231195058627419654875680800252100608.000000 | theta -3332120229795714961878028988881073635110373874164978563887680130234303119360.000000 -698875565208369457103486404957357969618998112176921798709136463650655091097075712.000000\n",
      "Iteration 11 | Cost: 265790482478029108388050043538001052015660808152895543086547890091227624434949989191468875240025141403465816958730891831567084877212311040121192240710078764156389346586860271013514142810112.000000 | theta 414539782036347235268021618955006777473571053081931802010231754061061049075632177152.000000 98354537946951237032188744905122063521092711868416711537974757983798761094907570363039744.000000\n",
      "Iteration 12 | Cost: 5901528636904871051574833666187366358845528739595333541538742659470271970186241406854018011084714390485534817370061816915713610758201634698906464527537325996815494633564314723050088477089601217010740494336.000000 | theta -60030199635188740278539721387690757489606905609543693434747619673567595009718523317268250624.000000 -14655712914183912492667876283539528489663132657099240012883461020965214152178597421033071619080192.000000\n",
      "Iteration 13 | Cost: 108762875722526225750021076854758833456511833577753043367565859548223226685373997093438542227140042381624646505403746890969815241170292389952329810931685458748021209759157879969196911369597149764850383602667711980122406912.000000 | theta 8537978552505799684988649809894273652667329634558201107574250842890665974065812136305839038200283136.000000 1989596602743031194541385538969152289632113770624209009971699945710677119284632600107967432917909696937984.000000\n",
      "Iteration 14 | Cost: 5259266838291551992400917330775240539145793920442358210053463968672291121341793221353271058934631925610984878893953313721375354157247426168296983264884328342819315825195906263964890629602634579743705545129490987697062820335129879679860736.000000 | theta -1475181410057701650134004924471845209054268723324655599830773186780304505097722845437242112576678087110950912.000000 -437509303673776709743462809050199161310421655420266038073881045455543894343193233945430470065820849918480111108096.000000\n",
      "Iteration 15 | Cost: 80579183454544959529549764483254810634394848741375799281843702837243142663217203466659951953952583562561841957565468614455572560453821858388468692785718353767675228551535295957951632834180976443869214739905683964661633156566429489372128164721796858249216.000000 | theta 243377672500973662817133270191310740730026043231368989764977061400716082969296288541572738361585246431912346198736896.000000 54154695821864008202468586511609285935128897957365321139759980936127289887265067698965459082488566037200820060067448487936.000000\n",
      "Iteration 16 | Cost: 1588134709107102271525846862109888968726510914595565945941048432060719118166658313744834900073513283739679530503717389313430835126380157941267404144277016696405149074543701377554910402508219866980387830305294353369701236566602599106983767619485453777481017270242216247296.000000 | theta -32082730572860434176652755228808197733762085625898169634795332122510085798362806867630306539996496261835222460530419765870592.000000 -7602708836205696352635960256707140034165318849628166726643336503721098105229096698924091793753243366015968150646838745571528802304.000000\n",
      "Iteration 17 | Cost: 17577456854386015828277046729344789335514431136790011724434619859623782809330852711886119592899843488072383594449152790302628997117940559283322326893133549448369437332984929989481242419080336535175155040359891768644045233158054001764464638090238682833245211545794074605336062254609596416.000000 | theta 3899011149018656474149726179537559185572728622903883320364799431499695073060123431374617529162543800324442414288249025750063262990336.000000 799839246039505559175644988908473079069890633816855678802218918368903582709203713758445229635227738771773961419505132070696602922735632384.000000\n",
      "Iteration 18 | Cost: 201855455654912727138604100135633960603138602160614888869948569289101832984274431845097392249373746912442664332228502953583197472047931874653000497330901528736466820021873371998303144237402954563410253711849618051702519650705423552894868493827080303538987474543365830984445565462483579831946656603963392.000000 | theta -413992786765543108910485029759539027044735669823140933412034614244622050938674528348355443916361290710526926344301591869487283177615104409600.000000 -85712652591949401889830635378187197760641036062743025381120737546745733017646625921142837313212421669085306214834010505242350909550262336178094080.000000\n",
      "Iteration 19 | Cost: inf | theta 51591516176301152236826089892183572180360929375659708166661838151475493929248790766566845356016298778144679269282248654737969746207414380725729755136.000000 12421483011379601898883911219256664811637797940417192931983859149632625180044778311921324639306405255549320799330684642199602359344116672022496306555518976.000000\n",
      "Iteration 20 | Cost: inf | theta -7467298624066908756408761486980023138709564356434351770401135488117584782467357751788614673350691884254532366910018863875413803487414043638379126761799548928.000000 -1795623963574175622486664368088174535576365771441317714413470421600457205377277101691139594985451877434294975683580637761279608520568139786920590149991682027814912.000000\n",
      "Iteration 21 | Cost: inf | theta 1027222585925949789272862104876065000340381266929753378960664784765094839404012385583443314641695701113589351137179416531578603749985686911386421115394965848981504000.000000 235058316936798357152265647372056529059875644984684472571750210133520063079155818784045082283779074070558186789282443949173556959458965620300897305959106121216548432510976.000000\n",
      "Iteration 22 | Cost: inf | theta -176297261525475718121742768449854079507829288379117453511518371157940033425906654905211744596270044094578150029108836204842977529781574837286749548607714152245850572662505472.000000 -52890412683934265201279653996865361288806729954207995469067728703385620509123937331693451430921158911872902698428525788354617988720726406905904961975560464169263391231714919448576.000000\n",
      "Iteration 23 | Cost: inf | theta 29257785910313269658181676610895700557942226876887127109828128115197613267969419686587755288822245813168402957937999915785539948854634782322697878748021145270130964405296565246230528.000000 6473928776087784202184668103155826017366518290006287757741611601338021712288926318550446172072307993164146872140184579706033862995474788461025018879721495483683140317233113651192107368448.000000\n",
      "Iteration 24 | Cost: inf | theta -3812334749576266635564960203675284738016536055338158155229321913048905517201655958690790686356744356011805924780654149800506018623210145772966734116778839865694435796227923891784386651095040.000000 -897999263415753847297170097390126579714308730148710419461474199355790715856581616869061576413044792264199689366914384381824187862083224265130286200107698206528392451300386447048212035480951193600.000000\n",
      "Iteration 25 | Cost: inf | theta 459551115437873353905648156028130835738284394089751634532293683663874107193761685373703088434018402565293065510478427248094252651442266638363320854759329957300851486459296178964638944365415621459968.000000 94070572644076092340998689600478034134977168472991806616800696317854066078384517536064156250840453972010614703240576891097165302531084633896057286672314620103283587869479422517091515878836471770749337600.000000\n",
      "Iteration 26 | Cost: inf | theta -49058273068795557500815476839251591197739802594469464954448531212693816017349070356159669948172371109541116364682171076622835963186580043003442674296462553446194082163407342406033971846779433690760248033280.000000 -10233702940316637123430422488902711814274247351631912194836950124089844160019543916915862290200742201544339099492603028924063237156824850574349178153949569462315008960933803119351662913451704949431274222070530048.000000\n",
      "Iteration 27 | Cost: inf | theta 6201035445918914561359544749720973243228627212149114942161173770179589269965424519846525284686616524379493429021306563146149131234077245486247681620133110227561645666218378661520164190725913653621823390441000665088.000000 1502994572595094139406879004910682244097679172933144252900858795871644618197697064234302621023033655589886604596093221600190679984093429227187390376962120537681363800306812282199481511470194341333310730814941032483913728.000000\n",
      "Iteration 28 | Cost: inf | theta -893019242866532822300555663853684276620640952478306956683327998509016678328288055210365972978801851253316629715803732736138404025667751050002856064551178268136264258947123703648770408152530440675912421810102310871098195968.000000 -212239418293739151096459244594113261304798730444001771932073433713536784054113258040921546588348042365854713421296910068840642207308863361643647933840462127678172008944533434084969019871487102802110358773784676035262510914338816.000000\n",
      "Iteration 29 | Cost: inf | theta 121647143205433602286767221709401549928471954512207143306266846977866090775693683136271148548665023065766310169024382174323776900491887781961038327994632439429443193381590412472635513647079234038608247521646651240715095604042137600.000000 27889432271479168514898016067212192805360854657704953667155735172652911195677455873827103233616344725904165269759974926273171698121559747802316839504054744398746948859302538259292470842968251691613453528183167662002180385863732215939072.000000\n",
      "Iteration 30 | Cost: inf | theta -20920072074588392088429930838808645544278034340075699282752114479034572441606206657685370057497090567103990897532119001061511811669183563672102777277125738117751781993618671401780519290073997031898474880077556791874988474526073945604489216.000000 -6276942122676676640823126945484432556966728326903794287522094096472667800593414808926899776098331682874677343468079661547234615636646743148201441664014839720821670674306231198931671070442670225296199093929866336452409350790758071771616159727616.000000\n",
      "Iteration 31 | Cost: inf | theta 3393707178613835072760524590383953040229354336434637522957407364599404623083859899221434538157517710863237509792232498746258659353438148251085550149832154336757576686083064924444368181985620974112150313251931234062916267320740245077250385840701440.000000 733943473173505089395065901822051951220701217747307471864422292633995200274692165224328998621889569154411592762405503498929380944189074606438650322747795919336886397609608629989292476583791168673466703516476883084277670462057643532323203517929903620096.000000\n",
      "Iteration 32 | Cost: inf | theta -430824811973917348914622432135431362867561424155832016094873509138348091425989017773516066067933876889471894989728287834829884695808269032830766555968301124453372993152010130451905563803235536916490521921375980267386830154861183015824082520474016561496064.000000 -101158096800100404011054181449507837762813546933294649508993242353783403456911688003729929885041688929760890086299048783284334367861984462590854058471265802567315074801514716958129341450539145408795106723188004147736774250737336703077925841241730857958039879680.000000\n",
      "Iteration 33 | Cost: inf | theta 52284067261043339810339258057592435812949512699493955412009797610190053182677026571577906615142497608864924267609561212365140073396459850833420113120580537847684478346352436582436827140772018697360285613093236053204748330627945622567539911171460691529554848645120.000000 10809364893351043974562572354300258563259081111853064728168821854017943653240518217683772521145710738425363442408007549319831212099069381803454240932228805528392262449826925380354015345831814570517349773170624522892667714129225248539922556219649140072463318001666490368.000000\n",
      "Iteration 34 | Cost: inf | theta -5640893988570050768209807706856761439756628397044084263416440684146654403910488195115712563540648542666405091574529839945727664946775270737322334853094326275661973410999181543947807808838194139575292471537646416793080085489744956777301422065899939296964105722362664583168.000000 -1177491493143836670099763007848043454521757881125979093089094880696742543562563699986253146563509964932167824046115806850449450354202627495092580194724874947195769585647501974701373742452845104839681454641033161531417825059389142369094909959089009435515810403656971863046750208.000000\n",
      "Iteration 35 | Cost: inf | theta 715299577258599300187811369463346567015030463954826881464711070136419353300349860213433399334405192254845380332948521452735802671070838606668805126761698353634361801917823758497204116371907678873162712370909410047501742612495661193328281766925588066824063804716220615250512183296.000000 173812075260196076166505347192616546906995793598208459576318216953682104572024147371426953490136898787488255265776108394784293456968261621397239189217275213161276716584867457157488124141813866546011739692324355506247208722409829041939745648960322847455188657197362786672137719915741184.000000\n",
      "Iteration 36 | Cost: inf | theta -104185998193467680439142358778992567670192013346583248471244270495224867168952298208007214024420196231545636811116172965865461272776592731125780540465308619066379800065662114879122833317489834125198833302403810614321187903377089624460445041668115895079375485224384935612161970389236318208.000000 -24980468409810337512896433846657863572071945997306717698879798238008141163026244568745139088899184731490152855532205828839476972917334109864673844852879921887594560034729864354449156018447682939354294521006518765612393789239744493186579762781029075619173266338780731549364897558190812670459904.000000\n",
      "Iteration 37 | Cost: inf | theta 14167360194657280099731091913144402506692771284801026012910298918862273283001594030045338248728367664005872758595004167377619130455528314509464459331775519735796150836051244845035526721164074096302640187520159843883204312710534210858011733494521565962802192499948989682023440858085633253651251200.000000 3213950661569584265028756271173767728169678138331444187617706810470184537139961137804853567256071591535253568668532339883794296680100567389604741292102958129769619803323494883523277721732605570039007729569504051966283716042228183584268928201619004910509673488595250974990463303718861301627199367938048.000000\n",
      "Iteration 38 | Cost: inf | theta -2391155159278506695984666713498622007797101619798592920576457329850834607876588172418465189653873698928979364157931616694671361814864770544892152550665206776911200420709449219174002743196869132534891824390556821465743518656824475896839463388144317257566649529490063482162225690100827472315974055574372352.000000 -inf\n",
      "Iteration 39 | Cost: 0.000000 | theta inf nan\n",
      "Iteration 40 | Cost: 0.000000 | theta nan nan\n",
      "Iteration 41 | Cost: 0.000000 | theta nan nan\n",
      "Iteration 42 | Cost: 0.000000 | theta nan nan\n",
      "Iteration 43 | Cost: 0.000000 | theta nan nan\n",
      "Iteration 44 | Cost: 0.000000 | theta nan nan\n",
      "Iteration 45 | Cost: 0.000000 | theta nan nan\n",
      "Iteration 46 | Cost: 0.000000 | theta nan nan\n",
      "Iteration 47 | Cost: 0.000000 | theta nan nan\n",
      "Iteration 48 | Cost: 0.000000 | theta nan nan\n",
      "Iteration 49 | Cost: 0.000000 | theta nan nan\n",
      "Iteration 50 | Cost: 0.000000 | theta nan nan\n",
      "Iteration 51 | Cost: 0.000000 | theta nan nan\n",
      "Iteration 52 | Cost: 0.000000 | theta nan nan\n",
      "Iteration 53 | Cost: 0.000000 | theta nan nan\n",
      "Iteration 54 | Cost: 0.000000 | theta nan nan\n",
      "Iteration 55 | Cost: 0.000000 | theta nan nan\n",
      "Iteration 56 | Cost: 0.000000 | theta nan nan\n",
      "Iteration 57 | Cost: 0.000000 | theta nan nan\n",
      "Iteration 58 | Cost: 0.000000 | theta nan nan\n",
      "Iteration 59 | Cost: 0.000000 | theta nan nan\n",
      "Iteration 60 | Cost: 0.000000 | theta nan nan\n",
      "Iteration 61 | Cost: 0.000000 | theta nan nan\n",
      "Iteration 62 | Cost: 0.000000 | theta nan nan\n",
      "Iteration 63 | Cost: 0.000000 | theta nan nan\n",
      "Iteration 64 | Cost: 0.000000 | theta nan nan\n",
      "Iteration 65 | Cost: 0.000000 | theta nan nan\n",
      "Iteration 66 | Cost: 0.000000 | theta nan nan\n",
      "Iteration 67 | Cost: 0.000000 | theta nan nan\n",
      "Iteration 68 | Cost: 0.000000 | theta nan nan\n",
      "Iteration 69 | Cost: 0.000000 | theta nan nan\n",
      "Iteration 70 | Cost: 0.000000 | theta nan nan\n",
      "Iteration 71 | Cost: 0.000000 | theta nan nan\n",
      "Iteration 72 | Cost: 0.000000 | theta nan nan\n",
      "Iteration 73 | Cost: 0.000000 | theta nan nan\n",
      "Iteration 74 | Cost: 0.000000 | theta nan nan\n",
      "Iteration 75 | Cost: 0.000000 | theta nan nan\n",
      "Iteration 76 | Cost: 0.000000 | theta nan nan\n",
      "Iteration 77 | Cost: 0.000000 | theta nan nan\n",
      "Iteration 78 | Cost: 0.000000 | theta nan nan\n",
      "Iteration 79 | Cost: 0.000000 | theta nan nan\n",
      "Iteration 80 | Cost: 0.000000 | theta nan nan\n"
     ]
    },
    {
     "name": "stderr",
     "output_type": "stream",
     "text": [
      "/home/mukul/anaconda3/lib/python3.6/site-packages/ipykernel_launcher.py:20: RuntimeWarning: overflow encountered in double_scalars\n",
      "/home/mukul/anaconda3/lib/python3.6/site-packages/ipykernel_launcher.py:20: RuntimeWarning: invalid value encountered in double_scalars\n"
     ]
    },
    {
     "ename": "KeyError",
     "evalue": "80",
     "output_type": "error",
     "traceback": [
      "\u001b[0;31m---------------------------------------------------------------------------\u001b[0m",
      "\u001b[0;31mKeyError\u001b[0m                                  Traceback (most recent call last)",
      "\u001b[0;32m<ipython-input-49-51c44cd6a826>\u001b[0m in \u001b[0;36m<module>\u001b[0;34m()\u001b[0m\n\u001b[1;32m      1\u001b[0m \u001b[0mprint\u001b[0m\u001b[0;34m(\u001b[0m\u001b[0;34m\"Running...\"\u001b[0m\u001b[0;34m)\u001b[0m\u001b[0;34m\u001b[0m\u001b[0m\n\u001b[0;32m----> 2\u001b[0;31m \u001b[0mtheta\u001b[0m \u001b[0;34m=\u001b[0m \u001b[0mgradientDescent\u001b[0m\u001b[0;34m(\u001b[0m\u001b[0mX\u001b[0m\u001b[0;34m,\u001b[0m \u001b[0my\u001b[0m\u001b[0;34m,\u001b[0m \u001b[0mtheta\u001b[0m\u001b[0;34m,\u001b[0m \u001b[0mlearning_rate\u001b[0m\u001b[0;34m,\u001b[0m \u001b[0mnum_iterations\u001b[0m\u001b[0;34m)\u001b[0m\u001b[0;34m\u001b[0m\u001b[0m\n\u001b[0m\u001b[1;32m      3\u001b[0m \u001b[0;34m\u001b[0m\u001b[0m\n\u001b[1;32m      4\u001b[0m \u001b[0;31m# Sort the data in ascending wrt mean square error\u001b[0m\u001b[0;34m\u001b[0m\u001b[0;34m\u001b[0m\u001b[0m\n\u001b[1;32m      5\u001b[0m \u001b[0;31m# costThetaList.sort(key=lambda x: x.cost, reverse=False)\u001b[0m\u001b[0;34m\u001b[0m\u001b[0;34m\u001b[0m\u001b[0m\n",
      "\u001b[0;32m<ipython-input-46-8ee6439028c9>\u001b[0m in \u001b[0;36mgradientDescent\u001b[0;34m(x, y, theta, learning_rate, num_iterations)\u001b[0m\n\u001b[1;32m     17\u001b[0m \u001b[0;34m\u001b[0m\u001b[0m\n\u001b[1;32m     18\u001b[0m         \u001b[0mprint\u001b[0m\u001b[0;34m(\u001b[0m\u001b[0;34m\"Iteration %d | Cost: %f | theta %f %f\"\u001b[0m \u001b[0;34m%\u001b[0m \u001b[0;34m(\u001b[0m\u001b[0mi\u001b[0m\u001b[0;34m,\u001b[0m \u001b[0mcost\u001b[0m\u001b[0;34m,\u001b[0m\u001b[0mtheta0\u001b[0m\u001b[0;34m,\u001b[0m \u001b[0mtheta1\u001b[0m\u001b[0;34m)\u001b[0m\u001b[0;34m)\u001b[0m\u001b[0;34m\u001b[0m\u001b[0m\n\u001b[0;32m---> 19\u001b[0;31m         \u001b[0mtheta0Gradient\u001b[0m \u001b[0;34m+=\u001b[0m \u001b[0;34m-\u001b[0m\u001b[0;34m(\u001b[0m\u001b[0;36m2\u001b[0m\u001b[0;34m/\u001b[0m\u001b[0mm\u001b[0m\u001b[0;34m)\u001b[0m \u001b[0;34m*\u001b[0m \u001b[0;34m(\u001b[0m\u001b[0my\u001b[0m\u001b[0;34m[\u001b[0m\u001b[0mi\u001b[0m\u001b[0;34m]\u001b[0m \u001b[0;34m-\u001b[0m \u001b[0;34m(\u001b[0m\u001b[0;34m(\u001b[0m\u001b[0mtheta1\u001b[0m \u001b[0;34m*\u001b[0m \u001b[0mx\u001b[0m\u001b[0;34m[\u001b[0m\u001b[0mi\u001b[0m\u001b[0;34m]\u001b[0m\u001b[0;34m)\u001b[0m \u001b[0;34m+\u001b[0m \u001b[0mtheta0\u001b[0m\u001b[0;34m)\u001b[0m\u001b[0;34m)\u001b[0m\u001b[0;34m\u001b[0m\u001b[0m\n\u001b[0m\u001b[1;32m     20\u001b[0m         \u001b[0mtheta1Gradient\u001b[0m \u001b[0;34m+=\u001b[0m \u001b[0;34m-\u001b[0m\u001b[0;34m(\u001b[0m\u001b[0;36m2\u001b[0m\u001b[0;34m/\u001b[0m\u001b[0mm\u001b[0m\u001b[0;34m)\u001b[0m \u001b[0;34m*\u001b[0m \u001b[0mx\u001b[0m\u001b[0;34m[\u001b[0m\u001b[0mi\u001b[0m\u001b[0;34m]\u001b[0m \u001b[0;34m*\u001b[0m \u001b[0;34m(\u001b[0m\u001b[0my\u001b[0m\u001b[0;34m[\u001b[0m\u001b[0mi\u001b[0m\u001b[0;34m]\u001b[0m \u001b[0;34m-\u001b[0m \u001b[0;34m(\u001b[0m\u001b[0;34m(\u001b[0m\u001b[0mtheta1\u001b[0m \u001b[0;34m*\u001b[0m \u001b[0mx\u001b[0m\u001b[0;34m[\u001b[0m\u001b[0mi\u001b[0m\u001b[0;34m]\u001b[0m\u001b[0;34m)\u001b[0m \u001b[0;34m+\u001b[0m \u001b[0mtheta1\u001b[0m\u001b[0;34m)\u001b[0m\u001b[0;34m)\u001b[0m\u001b[0;34m\u001b[0m\u001b[0m\n\u001b[1;32m     21\u001b[0m         \u001b[0mtheta0\u001b[0m \u001b[0;34m=\u001b[0m \u001b[0mtheta0\u001b[0m \u001b[0;34m-\u001b[0m \u001b[0;34m(\u001b[0m\u001b[0mlearning_rate\u001b[0m \u001b[0;34m*\u001b[0m \u001b[0mtheta0Gradient\u001b[0m\u001b[0;34m)\u001b[0m\u001b[0;34m\u001b[0m\u001b[0m\n",
      "\u001b[0;32m~/anaconda3/lib/python3.6/site-packages/pandas/core/series.py\u001b[0m in \u001b[0;36m__getitem__\u001b[0;34m(self, key)\u001b[0m\n\u001b[1;32m    764\u001b[0m         \u001b[0mkey\u001b[0m \u001b[0;34m=\u001b[0m \u001b[0mcom\u001b[0m\u001b[0;34m.\u001b[0m\u001b[0m_apply_if_callable\u001b[0m\u001b[0;34m(\u001b[0m\u001b[0mkey\u001b[0m\u001b[0;34m,\u001b[0m \u001b[0mself\u001b[0m\u001b[0;34m)\u001b[0m\u001b[0;34m\u001b[0m\u001b[0m\n\u001b[1;32m    765\u001b[0m         \u001b[0;32mtry\u001b[0m\u001b[0;34m:\u001b[0m\u001b[0;34m\u001b[0m\u001b[0m\n\u001b[0;32m--> 766\u001b[0;31m             \u001b[0mresult\u001b[0m \u001b[0;34m=\u001b[0m \u001b[0mself\u001b[0m\u001b[0;34m.\u001b[0m\u001b[0mindex\u001b[0m\u001b[0;34m.\u001b[0m\u001b[0mget_value\u001b[0m\u001b[0;34m(\u001b[0m\u001b[0mself\u001b[0m\u001b[0;34m,\u001b[0m \u001b[0mkey\u001b[0m\u001b[0;34m)\u001b[0m\u001b[0;34m\u001b[0m\u001b[0m\n\u001b[0m\u001b[1;32m    767\u001b[0m \u001b[0;34m\u001b[0m\u001b[0m\n\u001b[1;32m    768\u001b[0m             \u001b[0;32mif\u001b[0m \u001b[0;32mnot\u001b[0m \u001b[0mis_scalar\u001b[0m\u001b[0;34m(\u001b[0m\u001b[0mresult\u001b[0m\u001b[0;34m)\u001b[0m\u001b[0;34m:\u001b[0m\u001b[0;34m\u001b[0m\u001b[0m\n",
      "\u001b[0;32m~/anaconda3/lib/python3.6/site-packages/pandas/core/indexes/base.py\u001b[0m in \u001b[0;36mget_value\u001b[0;34m(self, series, key)\u001b[0m\n\u001b[1;32m   3101\u001b[0m         \u001b[0;32mtry\u001b[0m\u001b[0;34m:\u001b[0m\u001b[0;34m\u001b[0m\u001b[0m\n\u001b[1;32m   3102\u001b[0m             return self._engine.get_value(s, k,\n\u001b[0;32m-> 3103\u001b[0;31m                                           tz=getattr(series.dtype, 'tz', None))\n\u001b[0m\u001b[1;32m   3104\u001b[0m         \u001b[0;32mexcept\u001b[0m \u001b[0mKeyError\u001b[0m \u001b[0;32mas\u001b[0m \u001b[0me1\u001b[0m\u001b[0;34m:\u001b[0m\u001b[0;34m\u001b[0m\u001b[0m\n\u001b[1;32m   3105\u001b[0m             \u001b[0;32mif\u001b[0m \u001b[0mlen\u001b[0m\u001b[0;34m(\u001b[0m\u001b[0mself\u001b[0m\u001b[0;34m)\u001b[0m \u001b[0;34m>\u001b[0m \u001b[0;36m0\u001b[0m \u001b[0;32mand\u001b[0m \u001b[0mself\u001b[0m\u001b[0;34m.\u001b[0m\u001b[0minferred_type\u001b[0m \u001b[0;32min\u001b[0m \u001b[0;34m[\u001b[0m\u001b[0;34m'integer'\u001b[0m\u001b[0;34m,\u001b[0m \u001b[0;34m'boolean'\u001b[0m\u001b[0;34m]\u001b[0m\u001b[0;34m:\u001b[0m\u001b[0;34m\u001b[0m\u001b[0m\n",
      "\u001b[0;32mpandas/_libs/index.pyx\u001b[0m in \u001b[0;36mpandas._libs.index.IndexEngine.get_value\u001b[0;34m()\u001b[0m\n",
      "\u001b[0;32mpandas/_libs/index.pyx\u001b[0m in \u001b[0;36mpandas._libs.index.IndexEngine.get_value\u001b[0;34m()\u001b[0m\n",
      "\u001b[0;32mpandas/_libs/index.pyx\u001b[0m in \u001b[0;36mpandas._libs.index.IndexEngine.get_loc\u001b[0;34m()\u001b[0m\n",
      "\u001b[0;32mpandas/_libs/hashtable_class_helper.pxi\u001b[0m in \u001b[0;36mpandas._libs.hashtable.Int64HashTable.get_item\u001b[0;34m()\u001b[0m\n",
      "\u001b[0;32mpandas/_libs/hashtable_class_helper.pxi\u001b[0m in \u001b[0;36mpandas._libs.hashtable.Int64HashTable.get_item\u001b[0;34m()\u001b[0m\n",
      "\u001b[0;31mKeyError\u001b[0m: 80"
     ]
    }
   ],
   "source": [
    "print(\"Running...\")\n",
    "theta = gradientDescent(X, y, theta, learning_rate, num_iterations)\n",
    "\n",
    "# Sort the data in ascending wrt mean square error\n",
    "# costThetaList.sort(key=lambda x: x.cost, reverse=False)\n",
    "# print(\"After %d iterations b = %f, m = %f, error = %f\" % (num_iterations, costThetaList[0].theta0, costThetaList[0].theta1, costThetaList[0].cost))"
   ]
  },
  {
   "cell_type": "code",
   "execution_count": null,
   "metadata": {},
   "outputs": [],
   "source": []
  }
 ],
 "metadata": {
  "kernelspec": {
   "display_name": "Python 3",
   "language": "python",
   "name": "python3"
  },
  "language_info": {
   "codemirror_mode": {
    "name": "ipython",
    "version": 3
   },
   "file_extension": ".py",
   "mimetype": "text/x-python",
   "name": "python",
   "nbconvert_exporter": "python",
   "pygments_lexer": "ipython3",
   "version": "3.6.5"
  }
 },
 "nbformat": 4,
 "nbformat_minor": 2
}
